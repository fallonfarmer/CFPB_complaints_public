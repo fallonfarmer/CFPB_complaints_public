{
 "cells": [
  {
   "cell_type": "markdown",
   "metadata": {},
   "source": [
    "# CFPB Consumer Complaints\n",
    "Analysis of CFPB's public [Consumer Complaints Database](http://www.consumerfinance.gov/data-research/consumer-complaints/)"
   ]
  },
  {
   "cell_type": "markdown",
   "metadata": {},
   "source": [
    "## Data Setup\n",
    "---\n",
    "* import statements\n",
    "* read in data from Socrata API"
   ]
  },
  {
   "cell_type": "code",
   "execution_count": 1,
   "metadata": {
    "collapsed": false
   },
   "outputs": [
    {
     "data": {
      "text/html": [
       "<script>requirejs.config({paths: { 'plotly': ['https://cdn.plot.ly/plotly-latest.min']},});if(!window.Plotly) {{require(['plotly'],function(plotly) {window.Plotly=plotly;});}}</script>"
      ],
      "text/plain": [
       "<IPython.core.display.HTML object>"
      ]
     },
     "metadata": {},
     "output_type": "display_data"
    }
   ],
   "source": [
    "#import statements\n",
    "import numpy as np\n",
    "import pandas as pd\n",
    "import datetime\n",
    "import urllib\n",
    "\n",
    "# Visualization\n",
    "from pandas.tools.plotting import scatter_matrix\n",
    "import seaborn as sns\n",
    "sns.set(style=\"ticks\", color_codes=True)\n",
    "import matplotlib.pyplot as plt\n",
    "% matplotlib inline\n",
    "plt.style.use('fivethirtyeight')\n",
    "\n",
    "# plotly setup (Visualization)\n",
    "import plotly.plotly as py\n",
    "import plotly.graph_objs as go\n",
    "from plotly.offline import download_plotlyjs, init_notebook_mode, plot, iplot\n",
    "from plotly.graph_objs import *\n",
    "init_notebook_mode(connected=True)"
   ]
  },
  {
   "cell_type": "code",
   "execution_count": 2,
   "metadata": {
    "collapsed": true
   },
   "outputs": [],
   "source": [
    "# Access Complaints data via Socrata API\n",
    "# source for connection code: https://dev.socrata.com/foundry/data.consumerfinance.gov/jhzv-w97w\n",
    "query = (\"https://data.consumerfinance.gov/resource/jhzv-w97w.json\")\n",
    "raw_data = pd.read_json(query)"
   ]
  },
  {
   "cell_type": "code",
   "execution_count": 3,
   "metadata": {
    "collapsed": false,
    "scrolled": false
   },
   "outputs": [
    {
     "name": "stdout",
     "output_type": "stream",
     "text": [
      "(632107, 18)\n"
     ]
    },
    {
     "data": {
      "text/html": [
       "<div>\n",
       "<table border=\"1\" class=\"dataframe\">\n",
       "  <thead>\n",
       "    <tr style=\"text-align: right;\">\n",
       "      <th></th>\n",
       "      <th>company</th>\n",
       "      <th>company_public_response</th>\n",
       "      <th>company_response</th>\n",
       "      <th>complaint_id</th>\n",
       "      <th>complaint_what_happened</th>\n",
       "      <th>consumer_consent_provided</th>\n",
       "      <th>consumer_disputed</th>\n",
       "      <th>date_received</th>\n",
       "      <th>date_sent_to_company</th>\n",
       "      <th>issue</th>\n",
       "      <th>product</th>\n",
       "      <th>state</th>\n",
       "      <th>sub_issue</th>\n",
       "      <th>sub_product</th>\n",
       "      <th>submitted_via</th>\n",
       "      <th>tags</th>\n",
       "      <th>timely</th>\n",
       "      <th>zip_code</th>\n",
       "    </tr>\n",
       "  </thead>\n",
       "  <tbody>\n",
       "    <tr>\n",
       "      <th>0</th>\n",
       "      <td>Bank of America</td>\n",
       "      <td>Company chooses not to provide a public response</td>\n",
       "      <td>Closed with explanation</td>\n",
       "      <td>1780421</td>\n",
       "      <td>NaN</td>\n",
       "      <td>N/A</td>\n",
       "      <td>No</td>\n",
       "      <td>2016-02-09T16:58:05.000</td>\n",
       "      <td>2016-02-09T19:52:53.000</td>\n",
       "      <td>Problems caused by my funds being low</td>\n",
       "      <td>Bank account or service</td>\n",
       "      <td>NY</td>\n",
       "      <td>NaN</td>\n",
       "      <td>Checking account</td>\n",
       "      <td>Referral</td>\n",
       "      <td>NaN</td>\n",
       "      <td>Yes</td>\n",
       "      <td>11201</td>\n",
       "    </tr>\n",
       "    <tr>\n",
       "      <th>1</th>\n",
       "      <td>Synchrony Financial</td>\n",
       "      <td>NaN</td>\n",
       "      <td>Closed with explanation</td>\n",
       "      <td>1543488</td>\n",
       "      <td>XX/XX/XXXX I was approached by XXXX Attorney X...</td>\n",
       "      <td>Consent provided</td>\n",
       "      <td>No</td>\n",
       "      <td>2015-08-29T18:08:50.000</td>\n",
       "      <td>2015-09-04T14:55:10.000</td>\n",
       "      <td>Other fee</td>\n",
       "      <td>Credit card</td>\n",
       "      <td>TX</td>\n",
       "      <td>NaN</td>\n",
       "      <td>NaN</td>\n",
       "      <td>Web</td>\n",
       "      <td>NaN</td>\n",
       "      <td>Yes</td>\n",
       "      <td>787XX</td>\n",
       "    </tr>\n",
       "    <tr>\n",
       "      <th>2</th>\n",
       "      <td>Ocwen</td>\n",
       "      <td>NaN</td>\n",
       "      <td>Closed with explanation</td>\n",
       "      <td>1820018</td>\n",
       "      <td>I have been struggling with my mortgage paymen...</td>\n",
       "      <td>Consent provided</td>\n",
       "      <td>No</td>\n",
       "      <td>2016-03-08T01:29:34.000</td>\n",
       "      <td>2016-03-08T01:29:35.000</td>\n",
       "      <td>Loan modification,collection,foreclosure</td>\n",
       "      <td>Mortgage</td>\n",
       "      <td>CA</td>\n",
       "      <td>NaN</td>\n",
       "      <td>Conventional fixed mortgage</td>\n",
       "      <td>Web</td>\n",
       "      <td>Older American</td>\n",
       "      <td>Yes</td>\n",
       "      <td>946XX</td>\n",
       "    </tr>\n",
       "    <tr>\n",
       "      <th>3</th>\n",
       "      <td>SunTrust Banks, Inc.</td>\n",
       "      <td>NaN</td>\n",
       "      <td>Closed with explanation</td>\n",
       "      <td>629839</td>\n",
       "      <td>NaN</td>\n",
       "      <td>N/A</td>\n",
       "      <td>No</td>\n",
       "      <td>2013-12-11T17:05:57.000</td>\n",
       "      <td>2013-12-13T05:00:00.000</td>\n",
       "      <td>Cont'd attempts collect debt not owed</td>\n",
       "      <td>Debt collection</td>\n",
       "      <td>FL</td>\n",
       "      <td>Debt is not mine</td>\n",
       "      <td>I do not know</td>\n",
       "      <td>Phone</td>\n",
       "      <td>NaN</td>\n",
       "      <td>Yes</td>\n",
       "      <td>33056</td>\n",
       "    </tr>\n",
       "    <tr>\n",
       "      <th>4</th>\n",
       "      <td>Select Portfolio Servicing, Inc</td>\n",
       "      <td>Company believes it acted appropriately as aut...</td>\n",
       "      <td>Closed with explanation</td>\n",
       "      <td>1774742</td>\n",
       "      <td>NaN</td>\n",
       "      <td>N/A</td>\n",
       "      <td>No</td>\n",
       "      <td>2016-02-05T19:36:58.000</td>\n",
       "      <td>2016-02-09T20:29:51.000</td>\n",
       "      <td>Other</td>\n",
       "      <td>Mortgage</td>\n",
       "      <td>CA</td>\n",
       "      <td>NaN</td>\n",
       "      <td>Other mortgage</td>\n",
       "      <td>Referral</td>\n",
       "      <td>NaN</td>\n",
       "      <td>Yes</td>\n",
       "      <td>92551</td>\n",
       "    </tr>\n",
       "  </tbody>\n",
       "</table>\n",
       "</div>"
      ],
      "text/plain": [
       "                           company  \\\n",
       "0                  Bank of America   \n",
       "1              Synchrony Financial   \n",
       "2                            Ocwen   \n",
       "3             SunTrust Banks, Inc.   \n",
       "4  Select Portfolio Servicing, Inc   \n",
       "\n",
       "                             company_public_response         company_response  \\\n",
       "0   Company chooses not to provide a public response  Closed with explanation   \n",
       "1                                                NaN  Closed with explanation   \n",
       "2                                                NaN  Closed with explanation   \n",
       "3                                                NaN  Closed with explanation   \n",
       "4  Company believes it acted appropriately as aut...  Closed with explanation   \n",
       "\n",
       "   complaint_id                            complaint_what_happened  \\\n",
       "0       1780421                                                NaN   \n",
       "1       1543488  XX/XX/XXXX I was approached by XXXX Attorney X...   \n",
       "2       1820018  I have been struggling with my mortgage paymen...   \n",
       "3        629839                                                NaN   \n",
       "4       1774742                                                NaN   \n",
       "\n",
       "  consumer_consent_provided consumer_disputed            date_received  \\\n",
       "0                       N/A                No  2016-02-09T16:58:05.000   \n",
       "1          Consent provided                No  2015-08-29T18:08:50.000   \n",
       "2          Consent provided                No  2016-03-08T01:29:34.000   \n",
       "3                       N/A                No  2013-12-11T17:05:57.000   \n",
       "4                       N/A                No  2016-02-05T19:36:58.000   \n",
       "\n",
       "      date_sent_to_company                                     issue  \\\n",
       "0  2016-02-09T19:52:53.000     Problems caused by my funds being low   \n",
       "1  2015-09-04T14:55:10.000                                 Other fee   \n",
       "2  2016-03-08T01:29:35.000  Loan modification,collection,foreclosure   \n",
       "3  2013-12-13T05:00:00.000     Cont'd attempts collect debt not owed   \n",
       "4  2016-02-09T20:29:51.000                                     Other   \n",
       "\n",
       "                   product state         sub_issue  \\\n",
       "0  Bank account or service    NY               NaN   \n",
       "1              Credit card    TX               NaN   \n",
       "2                 Mortgage    CA               NaN   \n",
       "3          Debt collection    FL  Debt is not mine   \n",
       "4                 Mortgage    CA               NaN   \n",
       "\n",
       "                   sub_product submitted_via            tags timely zip_code  \n",
       "0             Checking account      Referral             NaN    Yes    11201  \n",
       "1                          NaN           Web             NaN    Yes    787XX  \n",
       "2  Conventional fixed mortgage           Web  Older American    Yes    946XX  \n",
       "3                I do not know         Phone             NaN    Yes    33056  \n",
       "4               Other mortgage      Referral             NaN    Yes    92551  "
      ]
     },
     "execution_count": 3,
     "metadata": {},
     "output_type": "execute_result"
    }
   ],
   "source": [
    "# confirm data load\n",
    "print raw_data.shape\n",
    "raw_data.head()"
   ]
  },
  {
   "cell_type": "code",
   "execution_count": 4,
   "metadata": {
    "collapsed": false
   },
   "outputs": [
    {
     "data": {
      "text/plain": [
       "company                      object\n",
       "company_public_response      object\n",
       "company_response             object\n",
       "complaint_id                  int64\n",
       "complaint_what_happened      object\n",
       "consumer_consent_provided    object\n",
       "consumer_disputed            object\n",
       "date_received                object\n",
       "date_sent_to_company         object\n",
       "issue                        object\n",
       "product                      object\n",
       "state                        object\n",
       "sub_issue                    object\n",
       "sub_product                  object\n",
       "submitted_via                object\n",
       "tags                         object\n",
       "timely                       object\n",
       "zip_code                     object\n",
       "dtype: object"
      ]
     },
     "execution_count": 4,
     "metadata": {},
     "output_type": "execute_result"
    }
   ],
   "source": [
    "# check columns and data types\n",
    "raw_data.dtypes"
   ]
  },
  {
   "cell_type": "markdown",
   "metadata": {},
   "source": [
    "## Data Wrangling\n",
    "---\n",
    "* Date / time columns\n",
    "* Aggregations by company, product, issue, state\n",
    "* Calculate averages\n",
    "* Normalize complaint counts by company"
   ]
  },
  {
   "cell_type": "code",
   "execution_count": 8,
   "metadata": {
    "collapsed": true
   },
   "outputs": [],
   "source": [
    "# make a copy of raw data for wrangling\n",
    "complaints = raw_data.copy()"
   ]
  },
  {
   "cell_type": "code",
   "execution_count": 10,
   "metadata": {
    "collapsed": false,
    "scrolled": true
   },
   "outputs": [
    {
     "name": "stdout",
     "output_type": "stream",
     "text": [
      "company                              object\n",
      "company_public_response              object\n",
      "company_response                     object\n",
      "complaint_id                          int64\n",
      "complaint_what_happened              object\n",
      "consumer_consent_provided            object\n",
      "consumer_disputed                    object\n",
      "date_received                datetime64[ns]\n",
      "date_sent_to_company         datetime64[ns]\n",
      "issue                                object\n",
      "product                              object\n",
      "state                                object\n",
      "sub_issue                            object\n",
      "sub_product                          object\n",
      "submitted_via                        object\n",
      "tags                                 object\n",
      "timely                               object\n",
      "zip_code                             object\n",
      "dtype: object\n"
     ]
    },
    {
     "data": {
      "text/html": [
       "<div>\n",
       "<table border=\"1\" class=\"dataframe\">\n",
       "  <thead>\n",
       "    <tr style=\"text-align: right;\">\n",
       "      <th></th>\n",
       "      <th>company</th>\n",
       "      <th>company_public_response</th>\n",
       "      <th>company_response</th>\n",
       "      <th>complaint_id</th>\n",
       "      <th>complaint_what_happened</th>\n",
       "      <th>consumer_consent_provided</th>\n",
       "      <th>consumer_disputed</th>\n",
       "      <th>date_received</th>\n",
       "      <th>date_sent_to_company</th>\n",
       "      <th>issue</th>\n",
       "      <th>product</th>\n",
       "      <th>state</th>\n",
       "      <th>sub_issue</th>\n",
       "      <th>sub_product</th>\n",
       "      <th>submitted_via</th>\n",
       "      <th>tags</th>\n",
       "      <th>timely</th>\n",
       "      <th>zip_code</th>\n",
       "    </tr>\n",
       "  </thead>\n",
       "  <tbody>\n",
       "    <tr>\n",
       "      <th>0</th>\n",
       "      <td>Bank of America</td>\n",
       "      <td>Company chooses not to provide a public response</td>\n",
       "      <td>Closed with explanation</td>\n",
       "      <td>1780421</td>\n",
       "      <td>NaN</td>\n",
       "      <td>N/A</td>\n",
       "      <td>No</td>\n",
       "      <td>2016-02-09 16:58:05</td>\n",
       "      <td>2016-02-09 19:52:53</td>\n",
       "      <td>Problems caused by my funds being low</td>\n",
       "      <td>Bank account or service</td>\n",
       "      <td>NY</td>\n",
       "      <td>NaN</td>\n",
       "      <td>Checking account</td>\n",
       "      <td>Referral</td>\n",
       "      <td>NaN</td>\n",
       "      <td>Yes</td>\n",
       "      <td>11201</td>\n",
       "    </tr>\n",
       "    <tr>\n",
       "      <th>1</th>\n",
       "      <td>Synchrony Financial</td>\n",
       "      <td>NaN</td>\n",
       "      <td>Closed with explanation</td>\n",
       "      <td>1543488</td>\n",
       "      <td>XX/XX/XXXX I was approached by XXXX Attorney X...</td>\n",
       "      <td>Consent provided</td>\n",
       "      <td>No</td>\n",
       "      <td>2015-08-29 18:08:50</td>\n",
       "      <td>2015-09-04 14:55:10</td>\n",
       "      <td>Other fee</td>\n",
       "      <td>Credit card</td>\n",
       "      <td>TX</td>\n",
       "      <td>NaN</td>\n",
       "      <td>NaN</td>\n",
       "      <td>Web</td>\n",
       "      <td>NaN</td>\n",
       "      <td>Yes</td>\n",
       "      <td>787XX</td>\n",
       "    </tr>\n",
       "    <tr>\n",
       "      <th>2</th>\n",
       "      <td>Ocwen</td>\n",
       "      <td>NaN</td>\n",
       "      <td>Closed with explanation</td>\n",
       "      <td>1820018</td>\n",
       "      <td>I have been struggling with my mortgage paymen...</td>\n",
       "      <td>Consent provided</td>\n",
       "      <td>No</td>\n",
       "      <td>2016-03-08 01:29:34</td>\n",
       "      <td>2016-03-08 01:29:35</td>\n",
       "      <td>Loan modification,collection,foreclosure</td>\n",
       "      <td>Mortgage</td>\n",
       "      <td>CA</td>\n",
       "      <td>NaN</td>\n",
       "      <td>Conventional fixed mortgage</td>\n",
       "      <td>Web</td>\n",
       "      <td>Older American</td>\n",
       "      <td>Yes</td>\n",
       "      <td>946XX</td>\n",
       "    </tr>\n",
       "    <tr>\n",
       "      <th>3</th>\n",
       "      <td>SunTrust Banks, Inc.</td>\n",
       "      <td>NaN</td>\n",
       "      <td>Closed with explanation</td>\n",
       "      <td>629839</td>\n",
       "      <td>NaN</td>\n",
       "      <td>N/A</td>\n",
       "      <td>No</td>\n",
       "      <td>2013-12-11 17:05:57</td>\n",
       "      <td>2013-12-13 05:00:00</td>\n",
       "      <td>Cont'd attempts collect debt not owed</td>\n",
       "      <td>Debt collection</td>\n",
       "      <td>FL</td>\n",
       "      <td>Debt is not mine</td>\n",
       "      <td>I do not know</td>\n",
       "      <td>Phone</td>\n",
       "      <td>NaN</td>\n",
       "      <td>Yes</td>\n",
       "      <td>33056</td>\n",
       "    </tr>\n",
       "    <tr>\n",
       "      <th>4</th>\n",
       "      <td>Select Portfolio Servicing, Inc</td>\n",
       "      <td>Company believes it acted appropriately as aut...</td>\n",
       "      <td>Closed with explanation</td>\n",
       "      <td>1774742</td>\n",
       "      <td>NaN</td>\n",
       "      <td>N/A</td>\n",
       "      <td>No</td>\n",
       "      <td>2016-02-05 19:36:58</td>\n",
       "      <td>2016-02-09 20:29:51</td>\n",
       "      <td>Other</td>\n",
       "      <td>Mortgage</td>\n",
       "      <td>CA</td>\n",
       "      <td>NaN</td>\n",
       "      <td>Other mortgage</td>\n",
       "      <td>Referral</td>\n",
       "      <td>NaN</td>\n",
       "      <td>Yes</td>\n",
       "      <td>92551</td>\n",
       "    </tr>\n",
       "  </tbody>\n",
       "</table>\n",
       "</div>"
      ],
      "text/plain": [
       "                           company  \\\n",
       "0                  Bank of America   \n",
       "1              Synchrony Financial   \n",
       "2                            Ocwen   \n",
       "3             SunTrust Banks, Inc.   \n",
       "4  Select Portfolio Servicing, Inc   \n",
       "\n",
       "                             company_public_response         company_response  \\\n",
       "0   Company chooses not to provide a public response  Closed with explanation   \n",
       "1                                                NaN  Closed with explanation   \n",
       "2                                                NaN  Closed with explanation   \n",
       "3                                                NaN  Closed with explanation   \n",
       "4  Company believes it acted appropriately as aut...  Closed with explanation   \n",
       "\n",
       "   complaint_id                            complaint_what_happened  \\\n",
       "0       1780421                                                NaN   \n",
       "1       1543488  XX/XX/XXXX I was approached by XXXX Attorney X...   \n",
       "2       1820018  I have been struggling with my mortgage paymen...   \n",
       "3        629839                                                NaN   \n",
       "4       1774742                                                NaN   \n",
       "\n",
       "  consumer_consent_provided consumer_disputed       date_received  \\\n",
       "0                       N/A                No 2016-02-09 16:58:05   \n",
       "1          Consent provided                No 2015-08-29 18:08:50   \n",
       "2          Consent provided                No 2016-03-08 01:29:34   \n",
       "3                       N/A                No 2013-12-11 17:05:57   \n",
       "4                       N/A                No 2016-02-05 19:36:58   \n",
       "\n",
       "  date_sent_to_company                                     issue  \\\n",
       "0  2016-02-09 19:52:53     Problems caused by my funds being low   \n",
       "1  2015-09-04 14:55:10                                 Other fee   \n",
       "2  2016-03-08 01:29:35  Loan modification,collection,foreclosure   \n",
       "3  2013-12-13 05:00:00     Cont'd attempts collect debt not owed   \n",
       "4  2016-02-09 20:29:51                                     Other   \n",
       "\n",
       "                   product state         sub_issue  \\\n",
       "0  Bank account or service    NY               NaN   \n",
       "1              Credit card    TX               NaN   \n",
       "2                 Mortgage    CA               NaN   \n",
       "3          Debt collection    FL  Debt is not mine   \n",
       "4                 Mortgage    CA               NaN   \n",
       "\n",
       "                   sub_product submitted_via            tags timely zip_code  \n",
       "0             Checking account      Referral             NaN    Yes    11201  \n",
       "1                          NaN           Web             NaN    Yes    787XX  \n",
       "2  Conventional fixed mortgage           Web  Older American    Yes    946XX  \n",
       "3                I do not know         Phone             NaN    Yes    33056  \n",
       "4               Other mortgage      Referral             NaN    Yes    92551  "
      ]
     },
     "execution_count": 10,
     "metadata": {},
     "output_type": "execute_result"
    }
   ],
   "source": [
    "# recast datetime columns\n",
    "complaints['date_received'] = pd.to_datetime(complaints['date_received'], infer_datetime_format=True)\n",
    "complaints['date_sent_to_company'] = pd.to_datetime(complaints['date_sent_to_company'], infer_datetime_format=True)\n",
    "\n",
    "# confirm results\n",
    "print complaints.dtypes\n",
    "complaints.head()"
   ]
  },
  {
   "cell_type": "code",
   "execution_count": 17,
   "metadata": {
    "collapsed": false
   },
   "outputs": [
    {
     "name": "stdout",
     "output_type": "stream",
     "text": [
      "(3799, 2)\n"
     ]
    },
    {
     "data": {
      "text/html": [
       "<div>\n",
       "<table border=\"1\" class=\"dataframe\">\n",
       "  <thead>\n",
       "    <tr style=\"text-align: right;\">\n",
       "      <th></th>\n",
       "      <th>company</th>\n",
       "      <th>total_complaints</th>\n",
       "    </tr>\n",
       "  </thead>\n",
       "  <tbody>\n",
       "    <tr>\n",
       "      <th>469</th>\n",
       "      <td>Bank of America</td>\n",
       "      <td>59713</td>\n",
       "    </tr>\n",
       "    <tr>\n",
       "      <th>3705</th>\n",
       "      <td>Wells Fargo &amp; Company</td>\n",
       "      <td>45671</td>\n",
       "    </tr>\n",
       "    <tr>\n",
       "      <th>1251</th>\n",
       "      <td>Equifax</td>\n",
       "      <td>38678</td>\n",
       "    </tr>\n",
       "    <tr>\n",
       "      <th>1850</th>\n",
       "      <td>JPMorgan Chase &amp; Co.</td>\n",
       "      <td>37242</td>\n",
       "    </tr>\n",
       "    <tr>\n",
       "      <th>1283</th>\n",
       "      <td>Experian</td>\n",
       "      <td>36840</td>\n",
       "    </tr>\n",
       "  </tbody>\n",
       "</table>\n",
       "</div>"
      ],
      "text/plain": [
       "                    company  total_complaints\n",
       "469         Bank of America             59713\n",
       "3705  Wells Fargo & Company             45671\n",
       "1251                Equifax             38678\n",
       "1850   JPMorgan Chase & Co.             37242\n",
       "1283               Experian             36840"
      ]
     },
     "execution_count": 17,
     "metadata": {},
     "output_type": "execute_result"
    }
   ],
   "source": [
    "# Aggregate by Company\n",
    "company = complaints[['company', 'complaint_id']].groupby('company').agg({'complaint_id': pd.Series.nunique}).reset_index()\n",
    "\n",
    "# rename columns\n",
    "company = company.rename(columns={'complaint_id':'total_complaints'})\n",
    "\n",
    "# sort by descending complaint counts\n",
    "company.sort_values(by='total_complaints', ascending=False, inplace=True)\n",
    "\n",
    "# review results\n",
    "print company.shape\n",
    "company.head()"
   ]
  },
  {
   "cell_type": "code",
   "execution_count": 12,
   "metadata": {
    "collapsed": false
   },
   "outputs": [
    {
     "data": {
      "text/html": [
       "<div>\n",
       "<table border=\"1\" class=\"dataframe\">\n",
       "  <thead>\n",
       "    <tr style=\"text-align: right;\">\n",
       "      <th></th>\n",
       "      <th>state</th>\n",
       "      <th>total_complaints</th>\n",
       "    </tr>\n",
       "  </thead>\n",
       "  <tbody>\n",
       "    <tr>\n",
       "      <th>8</th>\n",
       "      <td>CA</td>\n",
       "      <td>92358</td>\n",
       "    </tr>\n",
       "    <tr>\n",
       "      <th>13</th>\n",
       "      <td>FL</td>\n",
       "      <td>61052</td>\n",
       "    </tr>\n",
       "    <tr>\n",
       "      <th>53</th>\n",
       "      <td>TX</td>\n",
       "      <td>47710</td>\n",
       "    </tr>\n",
       "    <tr>\n",
       "      <th>42</th>\n",
       "      <td>NY</td>\n",
       "      <td>43519</td>\n",
       "    </tr>\n",
       "    <tr>\n",
       "      <th>15</th>\n",
       "      <td>GA</td>\n",
       "      <td>28432</td>\n",
       "    </tr>\n",
       "  </tbody>\n",
       "</table>\n",
       "</div>"
      ],
      "text/plain": [
       "   state  total_complaints\n",
       "8     CA             92358\n",
       "13    FL             61052\n",
       "53    TX             47710\n",
       "42    NY             43519\n",
       "15    GA             28432"
      ]
     },
     "execution_count": 12,
     "metadata": {},
     "output_type": "execute_result"
    }
   ],
   "source": [
    "# Aggregate by State\n",
    "state = complaints[['state', 'complaint_id']].groupby('state').agg({'complaint_id': pd.Series.nunique}).reset_index()\n",
    "\n",
    "# rename columns\n",
    "state = state.rename(columns={'complaint_id':'total_complaints'})\n",
    "\n",
    "# sort by descending complaint counts\n",
    "state.sort_values(by='total_complaints', ascending=False, inplace=True)\n",
    "\n",
    "# review results\n",
    "state.head()"
   ]
  },
  {
   "cell_type": "code",
   "execution_count": 13,
   "metadata": {
    "collapsed": false
   },
   "outputs": [
    {
     "data": {
      "text/html": [
       "<div>\n",
       "<table border=\"1\" class=\"dataframe\">\n",
       "  <thead>\n",
       "    <tr style=\"text-align: right;\">\n",
       "      <th></th>\n",
       "      <th>product</th>\n",
       "      <th>total_complaints</th>\n",
       "    </tr>\n",
       "  </thead>\n",
       "  <tbody>\n",
       "    <tr>\n",
       "      <th>6</th>\n",
       "      <td>Mortgage</td>\n",
       "      <td>202340</td>\n",
       "    </tr>\n",
       "    <tr>\n",
       "      <th>4</th>\n",
       "      <td>Debt collection</td>\n",
       "      <td>116489</td>\n",
       "    </tr>\n",
       "    <tr>\n",
       "      <th>3</th>\n",
       "      <td>Credit reporting</td>\n",
       "      <td>110415</td>\n",
       "    </tr>\n",
       "    <tr>\n",
       "      <th>2</th>\n",
       "      <td>Credit card</td>\n",
       "      <td>74547</td>\n",
       "    </tr>\n",
       "    <tr>\n",
       "      <th>0</th>\n",
       "      <td>Bank account or service</td>\n",
       "      <td>71133</td>\n",
       "    </tr>\n",
       "  </tbody>\n",
       "</table>\n",
       "</div>"
      ],
      "text/plain": [
       "                   product  total_complaints\n",
       "6                 Mortgage            202340\n",
       "4          Debt collection            116489\n",
       "3         Credit reporting            110415\n",
       "2              Credit card             74547\n",
       "0  Bank account or service             71133"
      ]
     },
     "execution_count": 13,
     "metadata": {},
     "output_type": "execute_result"
    }
   ],
   "source": [
    "# Aggregate by product\n",
    "product = complaints[['product', 'complaint_id']].groupby('product').agg({'complaint_id': pd.Series.nunique}).reset_index()\n",
    "\n",
    "# rename columns\n",
    "product = product.rename(columns={'complaint_id':'total_complaints'})\n",
    "\n",
    "# sort by descending complaint counts\n",
    "product.sort_values(by='total_complaints', ascending=False, inplace=True)\n",
    "\n",
    "# review results\n",
    "product.head()"
   ]
  },
  {
   "cell_type": "code",
   "execution_count": 14,
   "metadata": {
    "collapsed": false
   },
   "outputs": [
    {
     "data": {
      "text/html": [
       "<div>\n",
       "<table border=\"1\" class=\"dataframe\">\n",
       "  <thead>\n",
       "    <tr style=\"text-align: right;\">\n",
       "      <th></th>\n",
       "      <th>issue</th>\n",
       "      <th>total_complaints</th>\n",
       "    </tr>\n",
       "  </thead>\n",
       "  <tbody>\n",
       "    <tr>\n",
       "      <th>59</th>\n",
       "      <td>Loan modification,collection,foreclosure</td>\n",
       "      <td>103361</td>\n",
       "    </tr>\n",
       "    <tr>\n",
       "      <th>52</th>\n",
       "      <td>Incorrect information on credit report</td>\n",
       "      <td>80245</td>\n",
       "    </tr>\n",
       "    <tr>\n",
       "      <th>60</th>\n",
       "      <td>Loan servicing, payments, escrow account</td>\n",
       "      <td>66942</td>\n",
       "    </tr>\n",
       "    <tr>\n",
       "      <th>26</th>\n",
       "      <td>Cont'd attempts collect debt not owed</td>\n",
       "      <td>48525</td>\n",
       "    </tr>\n",
       "    <tr>\n",
       "      <th>1</th>\n",
       "      <td>Account opening, closing, or management</td>\n",
       "      <td>31001</td>\n",
       "    </tr>\n",
       "  </tbody>\n",
       "</table>\n",
       "</div>"
      ],
      "text/plain": [
       "                                       issue  total_complaints\n",
       "59  Loan modification,collection,foreclosure            103361\n",
       "52    Incorrect information on credit report             80245\n",
       "60  Loan servicing, payments, escrow account             66942\n",
       "26     Cont'd attempts collect debt not owed             48525\n",
       "1    Account opening, closing, or management             31001"
      ]
     },
     "execution_count": 14,
     "metadata": {},
     "output_type": "execute_result"
    }
   ],
   "source": [
    "# Aggregate by issue\n",
    "issue = complaints[['issue', 'complaint_id']].groupby('issue').agg({'complaint_id': pd.Series.nunique}).reset_index()\n",
    "\n",
    "# rename columns\n",
    "issue = issue.rename(columns={'complaint_id':'total_complaints'})\n",
    "\n",
    "# sort by descending complaint counts\n",
    "issue.sort_values(by='total_complaints', ascending=False, inplace=True)\n",
    "\n",
    "# review results\n",
    "issue.head()"
   ]
  },
  {
   "cell_type": "code",
   "execution_count": 15,
   "metadata": {
    "collapsed": false
   },
   "outputs": [
    {
     "data": {
      "text/html": [
       "<div>\n",
       "<table border=\"1\" class=\"dataframe\">\n",
       "  <thead>\n",
       "    <tr style=\"text-align: right;\">\n",
       "      <th></th>\n",
       "      <th>tags</th>\n",
       "      <th>total_complaints</th>\n",
       "    </tr>\n",
       "  </thead>\n",
       "  <tbody>\n",
       "    <tr>\n",
       "      <th>0</th>\n",
       "      <td>Older American</td>\n",
       "      <td>51482</td>\n",
       "    </tr>\n",
       "    <tr>\n",
       "      <th>2</th>\n",
       "      <td>Servicemember</td>\n",
       "      <td>30121</td>\n",
       "    </tr>\n",
       "    <tr>\n",
       "      <th>1</th>\n",
       "      <td>Older American, Servicemember</td>\n",
       "      <td>7257</td>\n",
       "    </tr>\n",
       "  </tbody>\n",
       "</table>\n",
       "</div>"
      ],
      "text/plain": [
       "                            tags  total_complaints\n",
       "0                 Older American             51482\n",
       "2                  Servicemember             30121\n",
       "1  Older American, Servicemember              7257"
      ]
     },
     "execution_count": 15,
     "metadata": {},
     "output_type": "execute_result"
    }
   ],
   "source": [
    "# Aggregate by tags\n",
    "tags = complaints[['tags', 'complaint_id']].groupby('tags').agg({'complaint_id': pd.Series.nunique}).reset_index()\n",
    "\n",
    "# rename columns\n",
    "tags = tags.rename(columns={'complaint_id':'total_complaints'})\n",
    "\n",
    "# sort by descending complaint counts\n",
    "tags.sort_values(by='total_complaints', ascending=False, inplace=True)\n",
    "\n",
    "# review results\n",
    "tags.head()"
   ]
  },
  {
   "cell_type": "code",
   "execution_count": 16,
   "metadata": {
    "collapsed": false
   },
   "outputs": [
    {
     "name": "stdout",
     "output_type": "stream",
     "text": [
      "Average complaints by company: 166.387733614\n",
      "Average complaints by state: 10114.5967742\n",
      "Average complaints by product: 52675.5833333\n",
      "Average complaints by issue: 6653.74736842\n",
      "Average complaints by tags: 29620.0\n"
     ]
    }
   ],
   "source": [
    "# average complaints totals\n",
    "avg_complaints_company = np.mean(company.total_complaints)\n",
    "print 'Average complaints by company:', avg_complaints_company\n",
    "\n",
    "avg_complaints_state = np.mean(state.total_complaints)\n",
    "print 'Average complaints by state:', avg_complaints_state\n",
    "\n",
    "avg_complaints_product = np.mean(product.total_complaints)\n",
    "print 'Average complaints by product:', avg_complaints_product\n",
    "\n",
    "avg_complaints_issue = np.mean(issue.total_complaints)\n",
    "print 'Average complaints by issue:', avg_complaints_issue\n",
    "\n",
    "avg_complaints_tags = np.mean(tags.total_complaints)\n",
    "print 'Average complaints by tags:', avg_complaints_tags"
   ]
  },
  {
   "cell_type": "code",
   "execution_count": null,
   "metadata": {
    "collapsed": true
   },
   "outputs": [],
   "source": [
    "# Calculate average yearly complaints by company\n"
   ]
  },
  {
   "cell_type": "code",
   "execution_count": null,
   "metadata": {
    "collapsed": true
   },
   "outputs": [],
   "source": [
    "# normalize complaints by yearly average / change, to adjust for bigger companies that receive more complaints\n"
   ]
  },
  {
   "cell_type": "code",
   "execution_count": null,
   "metadata": {
    "collapsed": true
   },
   "outputs": [],
   "source": [
    "# issues by company response published or not\n",
    "\n",
    "# issues by response type\n",
    "\n",
    "# commonly disputed issues"
   ]
  },
  {
   "cell_type": "markdown",
   "metadata": {},
   "source": [
    "## Data Blending\n",
    "---\n",
    "* Census (population, demographics, income, age, education)\n",
    "* Zipcode to latitude and longitude\n",
    "* Company type and size\n",
    "* Military base locations\n",
    "\n",
    "**Note on zipcode limitations**: *Mailing ZIP code provided by the consumer. This field may: i) include the first five digits of a ZIP code; ii) include the first three digits of a ZIP code (if the consumer consented to publication of their complaint narrative); or iii) be blank (if ZIP codes have been submitted with non-numeric values, if there are less than 20,000 people in a given ZIP code, or if the complaint has an address outside of the United States).*"
   ]
  },
  {
   "cell_type": "code",
   "execution_count": null,
   "metadata": {
    "collapsed": true
   },
   "outputs": [],
   "source": []
  },
  {
   "cell_type": "markdown",
   "metadata": {
    "collapsed": true
   },
   "source": [
    "## Visual Analysis\n",
    "---\n",
    "Using pandas visuals, seaborn, and plotly\n",
    "* Complaints by company, product, state over time\n",
    "* Outliers by issue grouped by company"
   ]
  },
  {
   "cell_type": "code",
   "execution_count": null,
   "metadata": {
    "collapsed": true
   },
   "outputs": [],
   "source": [
    "trace1 = go.Scatter(\n",
    "    y = company[''],\n",
    "    mode='markers',\n",
    "    marker=dict(\n",
    "        size='16',\n",
    "        color = company['product'], #set color equal to a variable\n",
    "        colorscale='Viridis',\n",
    "        showscale=True\n",
    "    )\n",
    ")\n",
    "data = [trace1]\n",
    "\n",
    "iplot(data, show_link=False)"
   ]
  },
  {
   "cell_type": "code",
   "execution_count": null,
   "metadata": {
    "collapsed": true
   },
   "outputs": [],
   "source": [
    "iplot({\n",
    "    'data': [\n",
    "        Scatter(x=df[continent+'_Life Expentancy [in years]'],\n",
    "                y=df[continent+'_Gross Domestic Product per Capita [in USD of the year 2000]'],\n",
    "                text=df[continent+'_text'],\n",
    "                marker=Marker(size=df[continent+'_marker.size'], sizemode='area', sizeref=131868,),\n",
    "                mode='markers',\n",
    "                name=continent) for continent in ['Africa', 'Americas', 'Asia', 'Europe', 'Oceania']\n",
    "    ],\n",
    "    'layout': Layout(xaxis=XAxis(title='Life Expectancy'), yaxis=YAxis(title='GDP per Capita', type='log'))\n",
    "}, show_link=False)"
   ]
  },
  {
   "cell_type": "markdown",
   "metadata": {},
   "source": [
    "## Regression Analysis\n",
    "---\n",
    "* Correlation\n",
    "* Linear Regression\n",
    "* Random Forest"
   ]
  },
  {
   "cell_type": "code",
   "execution_count": null,
   "metadata": {
    "collapsed": true
   },
   "outputs": [],
   "source": []
  },
  {
   "cell_type": "code",
   "execution_count": null,
   "metadata": {
    "collapsed": true
   },
   "outputs": [],
   "source": []
  },
  {
   "cell_type": "markdown",
   "metadata": {},
   "source": [
    "## Topic Modeling\n",
    "---\n",
    "* By Consumer Narrative\n",
    "* By Company Response"
   ]
  },
  {
   "cell_type": "code",
   "execution_count": null,
   "metadata": {
    "collapsed": true
   },
   "outputs": [],
   "source": []
  },
  {
   "cell_type": "code",
   "execution_count": null,
   "metadata": {
    "collapsed": true
   },
   "outputs": [],
   "source": []
  }
 ],
 "metadata": {
  "kernelspec": {
   "display_name": "Python 2",
   "language": "python",
   "name": "python2"
  },
  "language_info": {
   "codemirror_mode": {
    "name": "ipython",
    "version": 2
   },
   "file_extension": ".py",
   "mimetype": "text/x-python",
   "name": "python",
   "nbconvert_exporter": "python",
   "pygments_lexer": "ipython2",
   "version": "2.7.11"
  }
 },
 "nbformat": 4,
 "nbformat_minor": 0
}
