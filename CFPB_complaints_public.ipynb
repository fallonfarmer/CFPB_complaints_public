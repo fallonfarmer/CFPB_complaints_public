{
 "cells": [
  {
   "cell_type": "markdown",
   "metadata": {},
   "source": [
    "# CFPB Consumer Complaints\n",
    "Analysis of CFPB's public [Consumer Complaints Database] (http://www.consumerfinance.gov/data-research/consumer-complaints/)\n",
    "\n",
    "**Visual Analysis**\n",
    "* Complaints by company, issue, product, and tags\n",
    "* Complaints over time\n",
    "* Complaints by geographic region (state, zip code)\n",
    "\n",
    "**NLP**\n",
    "* Topic modeling on consumer narrative\n",
    "* Topic modeling on company response"
   ]
  },
  {
   "cell_type": "markdown",
   "metadata": {},
   "source": [
    "## Data Setup\n",
    "---"
   ]
  },
  {
   "cell_type": "code",
   "execution_count": 1,
   "metadata": {
    "collapsed": true
   },
   "outputs": [],
   "source": [
    "#import statements\n",
    "import numpy as np\n",
    "import pandas as pd\n",
    "import datetime\n",
    "import urllib\n",
    " \n",
    "from bokeh.plotting import *\n",
    "from bokeh.models import HoverTool\n",
    "from collections import OrderedDict"
   ]
  },
  {
   "cell_type": "code",
   "execution_count": 2,
   "metadata": {
    "collapsed": true
   },
   "outputs": [],
   "source": [
    "# Access Complaints data via Socrata API\n",
    "# source for connection code: https://dev.socrata.com/foundry/data.consumerfinance.gov/jhzv-w97w\n",
    "query = (\"https://data.consumerfinance.gov/resource/jhzv-w97w.json\")\n",
    "raw_data = pd.read_json(query)"
   ]
  },
  {
   "cell_type": "code",
   "execution_count": 4,
   "metadata": {
    "collapsed": false
   },
   "outputs": [
    {
     "name": "stdout",
     "output_type": "stream",
     "text": [
      "(632107, 18)\n"
     ]
    },
    {
     "data": {
      "text/html": [
       "<div>\n",
       "<table border=\"1\" class=\"dataframe\">\n",
       "  <thead>\n",
       "    <tr style=\"text-align: right;\">\n",
       "      <th></th>\n",
       "      <th>company</th>\n",
       "      <th>company_public_response</th>\n",
       "      <th>company_response</th>\n",
       "      <th>complaint_id</th>\n",
       "      <th>complaint_what_happened</th>\n",
       "      <th>consumer_consent_provided</th>\n",
       "      <th>consumer_disputed</th>\n",
       "      <th>date_received</th>\n",
       "      <th>date_sent_to_company</th>\n",
       "      <th>issue</th>\n",
       "      <th>product</th>\n",
       "      <th>state</th>\n",
       "      <th>sub_issue</th>\n",
       "      <th>sub_product</th>\n",
       "      <th>submitted_via</th>\n",
       "      <th>tags</th>\n",
       "      <th>timely</th>\n",
       "      <th>zip_code</th>\n",
       "    </tr>\n",
       "  </thead>\n",
       "  <tbody>\n",
       "    <tr>\n",
       "      <th>0</th>\n",
       "      <td>Bank of America</td>\n",
       "      <td>Company chooses not to provide a public response</td>\n",
       "      <td>Closed with explanation</td>\n",
       "      <td>1780421</td>\n",
       "      <td>NaN</td>\n",
       "      <td>N/A</td>\n",
       "      <td>No</td>\n",
       "      <td>2016-02-09T16:58:05.000</td>\n",
       "      <td>2016-02-09T19:52:53.000</td>\n",
       "      <td>Problems caused by my funds being low</td>\n",
       "      <td>Bank account or service</td>\n",
       "      <td>NY</td>\n",
       "      <td>NaN</td>\n",
       "      <td>Checking account</td>\n",
       "      <td>Referral</td>\n",
       "      <td>NaN</td>\n",
       "      <td>Yes</td>\n",
       "      <td>11201</td>\n",
       "    </tr>\n",
       "    <tr>\n",
       "      <th>1</th>\n",
       "      <td>Synchrony Financial</td>\n",
       "      <td>NaN</td>\n",
       "      <td>Closed with explanation</td>\n",
       "      <td>1543488</td>\n",
       "      <td>XX/XX/XXXX I was approached by XXXX Attorney X...</td>\n",
       "      <td>Consent provided</td>\n",
       "      <td>No</td>\n",
       "      <td>2015-08-29T18:08:50.000</td>\n",
       "      <td>2015-09-04T14:55:10.000</td>\n",
       "      <td>Other fee</td>\n",
       "      <td>Credit card</td>\n",
       "      <td>TX</td>\n",
       "      <td>NaN</td>\n",
       "      <td>NaN</td>\n",
       "      <td>Web</td>\n",
       "      <td>NaN</td>\n",
       "      <td>Yes</td>\n",
       "      <td>787XX</td>\n",
       "    </tr>\n",
       "    <tr>\n",
       "      <th>2</th>\n",
       "      <td>Ocwen</td>\n",
       "      <td>NaN</td>\n",
       "      <td>Closed with explanation</td>\n",
       "      <td>1820018</td>\n",
       "      <td>I have been struggling with my mortgage paymen...</td>\n",
       "      <td>Consent provided</td>\n",
       "      <td>No</td>\n",
       "      <td>2016-03-08T01:29:34.000</td>\n",
       "      <td>2016-03-08T01:29:35.000</td>\n",
       "      <td>Loan modification,collection,foreclosure</td>\n",
       "      <td>Mortgage</td>\n",
       "      <td>CA</td>\n",
       "      <td>NaN</td>\n",
       "      <td>Conventional fixed mortgage</td>\n",
       "      <td>Web</td>\n",
       "      <td>Older American</td>\n",
       "      <td>Yes</td>\n",
       "      <td>946XX</td>\n",
       "    </tr>\n",
       "    <tr>\n",
       "      <th>3</th>\n",
       "      <td>SunTrust Banks, Inc.</td>\n",
       "      <td>NaN</td>\n",
       "      <td>Closed with explanation</td>\n",
       "      <td>629839</td>\n",
       "      <td>NaN</td>\n",
       "      <td>N/A</td>\n",
       "      <td>No</td>\n",
       "      <td>2013-12-11T17:05:57.000</td>\n",
       "      <td>2013-12-13T05:00:00.000</td>\n",
       "      <td>Cont'd attempts collect debt not owed</td>\n",
       "      <td>Debt collection</td>\n",
       "      <td>FL</td>\n",
       "      <td>Debt is not mine</td>\n",
       "      <td>I do not know</td>\n",
       "      <td>Phone</td>\n",
       "      <td>NaN</td>\n",
       "      <td>Yes</td>\n",
       "      <td>33056</td>\n",
       "    </tr>\n",
       "    <tr>\n",
       "      <th>4</th>\n",
       "      <td>Select Portfolio Servicing, Inc</td>\n",
       "      <td>Company believes it acted appropriately as aut...</td>\n",
       "      <td>Closed with explanation</td>\n",
       "      <td>1774742</td>\n",
       "      <td>NaN</td>\n",
       "      <td>N/A</td>\n",
       "      <td>No</td>\n",
       "      <td>2016-02-05T19:36:58.000</td>\n",
       "      <td>2016-02-09T20:29:51.000</td>\n",
       "      <td>Other</td>\n",
       "      <td>Mortgage</td>\n",
       "      <td>CA</td>\n",
       "      <td>NaN</td>\n",
       "      <td>Other mortgage</td>\n",
       "      <td>Referral</td>\n",
       "      <td>NaN</td>\n",
       "      <td>Yes</td>\n",
       "      <td>92551</td>\n",
       "    </tr>\n",
       "  </tbody>\n",
       "</table>\n",
       "</div>"
      ],
      "text/plain": [
       "                           company  \\\n",
       "0                  Bank of America   \n",
       "1              Synchrony Financial   \n",
       "2                            Ocwen   \n",
       "3             SunTrust Banks, Inc.   \n",
       "4  Select Portfolio Servicing, Inc   \n",
       "\n",
       "                             company_public_response         company_response  \\\n",
       "0   Company chooses not to provide a public response  Closed with explanation   \n",
       "1                                                NaN  Closed with explanation   \n",
       "2                                                NaN  Closed with explanation   \n",
       "3                                                NaN  Closed with explanation   \n",
       "4  Company believes it acted appropriately as aut...  Closed with explanation   \n",
       "\n",
       "   complaint_id                            complaint_what_happened  \\\n",
       "0       1780421                                                NaN   \n",
       "1       1543488  XX/XX/XXXX I was approached by XXXX Attorney X...   \n",
       "2       1820018  I have been struggling with my mortgage paymen...   \n",
       "3        629839                                                NaN   \n",
       "4       1774742                                                NaN   \n",
       "\n",
       "  consumer_consent_provided consumer_disputed            date_received  \\\n",
       "0                       N/A                No  2016-02-09T16:58:05.000   \n",
       "1          Consent provided                No  2015-08-29T18:08:50.000   \n",
       "2          Consent provided                No  2016-03-08T01:29:34.000   \n",
       "3                       N/A                No  2013-12-11T17:05:57.000   \n",
       "4                       N/A                No  2016-02-05T19:36:58.000   \n",
       "\n",
       "      date_sent_to_company                                     issue  \\\n",
       "0  2016-02-09T19:52:53.000     Problems caused by my funds being low   \n",
       "1  2015-09-04T14:55:10.000                                 Other fee   \n",
       "2  2016-03-08T01:29:35.000  Loan modification,collection,foreclosure   \n",
       "3  2013-12-13T05:00:00.000     Cont'd attempts collect debt not owed   \n",
       "4  2016-02-09T20:29:51.000                                     Other   \n",
       "\n",
       "                   product state         sub_issue  \\\n",
       "0  Bank account or service    NY               NaN   \n",
       "1              Credit card    TX               NaN   \n",
       "2                 Mortgage    CA               NaN   \n",
       "3          Debt collection    FL  Debt is not mine   \n",
       "4                 Mortgage    CA               NaN   \n",
       "\n",
       "                   sub_product submitted_via            tags timely zip_code  \n",
       "0             Checking account      Referral             NaN    Yes    11201  \n",
       "1                          NaN           Web             NaN    Yes    787XX  \n",
       "2  Conventional fixed mortgage           Web  Older American    Yes    946XX  \n",
       "3                I do not know         Phone             NaN    Yes    33056  \n",
       "4               Other mortgage      Referral             NaN    Yes    92551  "
      ]
     },
     "execution_count": 4,
     "metadata": {},
     "output_type": "execute_result"
    }
   ],
   "source": [
    "# confirm data load\n",
    "print raw_data.shape\n",
    "raw_data.head()"
   ]
  },
  {
   "cell_type": "markdown",
   "metadata": {
    "collapsed": true
   },
   "source": [
    "## Visual Analysis\n",
    "---"
   ]
  },
  {
   "cell_type": "code",
   "execution_count": null,
   "metadata": {
    "collapsed": true
   },
   "outputs": [],
   "source": []
  }
 ],
 "metadata": {
  "kernelspec": {
   "display_name": "Python 2",
   "language": "python",
   "name": "python2"
  },
  "language_info": {
   "codemirror_mode": {
    "name": "ipython",
    "version": 2
   },
   "file_extension": ".py",
   "mimetype": "text/x-python",
   "name": "python",
   "nbconvert_exporter": "python",
   "pygments_lexer": "ipython2",
   "version": "2.7.11"
  }
 },
 "nbformat": 4,
 "nbformat_minor": 0
}
